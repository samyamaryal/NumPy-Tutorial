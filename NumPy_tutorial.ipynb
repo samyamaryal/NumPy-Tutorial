{
  "nbformat": 4,
  "nbformat_minor": 0,
  "metadata": {
    "colab": {
      "name": "NumPy_tutorial.ipynb",
      "provenance": [],
      "collapsed_sections": [],
      "authorship_tag": "ABX9TyMzOTMUvmOlh45MGXZhY2n1",
      "include_colab_link": true
    },
    "kernelspec": {
      "name": "python3",
      "display_name": "Python 3"
    },
    "language_info": {
      "name": "python"
    }
  },
  "cells": [
    {
      "cell_type": "markdown",
      "metadata": {
        "id": "view-in-github",
        "colab_type": "text"
      },
      "source": [
        "<a href=\"https://colab.research.google.com/github/samyamaryal/NumPy-Tutorial/blob/main/NumPy_tutorial.ipynb\" target=\"_parent\"><img src=\"https://colab.research.google.com/assets/colab-badge.svg\" alt=\"Open In Colab\"/></a>"
      ]
    },
    {
      "cell_type": "markdown",
      "source": [
        "### **NUMPY**"
      ],
      "metadata": {
        "id": "-zoVBwsDjrjC"
      }
    },
    {
      "cell_type": "markdown",
      "source": [
        "NumPy is a library for the Python programming language, adding support for large, multi-dimensional arrays and matrices, along with a large collection of high-level mathematical functions to operate on these arrays. It also has functions for working in domain of linear algebra, fourier transform, and matrices.\n",
        "\n",
        "NumPy is short for Numerical Python."
      ],
      "metadata": {
        "id": "9aCYptcBjKwH"
      }
    },
    {
      "cell_type": "code",
      "execution_count": 1,
      "metadata": {
        "id": "7LZmeK2usImH"
      },
      "outputs": [],
      "source": [
        "# Importing the Numpy module\n",
        "# here, we are using the 'as' keyword to create an alias of the numpy module, which basically means we can refer to this module by typing np instead of numpy\n",
        "import numpy as np"
      ]
    },
    {
      "cell_type": "markdown",
      "source": [
        "INTRODUCTION TO ARRAYS AND NUMPY ARRAYS\n",
        "\n",
        "Unlike C/C++, Python doesn't have array as a built-in data type. It has lists, which is similar to arrays to an extent, but we can't use mathematical operations on lists, which greatly limits its usage.\n",
        "\n",
        "Numpy on the other hand enables us to perform lots of operations on arrays, which makes it easier to manipulate data/ perform calculations on large datasets."
      ],
      "metadata": {
        "id": "QXiZCj1Yks1G"
      }
    },
    {
      "cell_type": "code",
      "source": [
        "# We use the np.array() function to create an array.\n",
        "oned_array = np.array([1, 2, 3, 4, 5])"
      ],
      "metadata": {
        "id": "uEBdqIdlkwrL"
      },
      "execution_count": 2,
      "outputs": []
    },
    {
      "cell_type": "code",
      "source": [
        "print(oned_array)"
      ],
      "metadata": {
        "colab": {
          "base_uri": "https://localhost:8080/"
        },
        "id": "OnqoN7Flvg7y",
        "outputId": "fe11fc0a-7b2b-4a5f-f57c-17a35c2b3186"
      },
      "execution_count": 4,
      "outputs": [
        {
          "output_type": "stream",
          "name": "stdout",
          "text": [
            "[1 2 3 4 5]\n"
          ]
        }
      ]
    },
    {
      "cell_type": "code",
      "source": [
        "type(oned_array)"
      ],
      "metadata": {
        "colab": {
          "base_uri": "https://localhost:8080/"
        },
        "id": "_CzQ92OPvi-S",
        "outputId": "23caf7af-f8ff-4a59-d1c0-7195b11c60d2"
      },
      "execution_count": 6,
      "outputs": [
        {
          "output_type": "execute_result",
          "data": {
            "text/plain": [
              "numpy.ndarray"
            ]
          },
          "metadata": {},
          "execution_count": 6
        }
      ]
    },
    {
      "cell_type": "markdown",
      "source": [
        "As we can see above, the data we created using the *np.array()* function is a Numpy array, which is of type *numpy.ndarray*. ndarray is short for n-dimensional array, which means that we can use Numpy to create an array of as many dimensions as we wish to."
      ],
      "metadata": {
        "id": "sNr9jCfSlZzE"
      }
    },
    {
      "cell_type": "code",
      "source": [
        "# Let's try creating a two-dimensional array now.\n",
        "twod_array = np.array([[1,2,3], [4,5,6]])"
      ],
      "metadata": {
        "id": "6nKB3N76v27-"
      },
      "execution_count": 7,
      "outputs": []
    },
    {
      "cell_type": "code",
      "source": [
        "print(twod_array)"
      ],
      "metadata": {
        "colab": {
          "base_uri": "https://localhost:8080/"
        },
        "id": "IwpG78Xkws29",
        "outputId": "d1fadb1f-6b9b-4f89-8e2c-d22a5833e01e"
      },
      "execution_count": 8,
      "outputs": [
        {
          "output_type": "stream",
          "name": "stdout",
          "text": [
            "[[1 2 3]\n",
            " [4 5 6]]\n"
          ]
        }
      ]
    },
    {
      "cell_type": "markdown",
      "source": [
        "A 2-D array is basically an array consisting of one or more array of values.\n",
        "Here, two arrays [1 2 3] and [4 5 6] are the elements used to form a 2-dimensional array."
      ],
      "metadata": {
        "id": "yOojmbixlv-n"
      }
    },
    {
      "cell_type": "code",
      "source": [
        "threed_array = np.array([[[1,2,3], [4,5,6]], [[7,8,9], [10, 11, 12]]])"
      ],
      "metadata": {
        "id": "uTyW_wlowt-g"
      },
      "execution_count": 9,
      "outputs": []
    },
    {
      "cell_type": "markdown",
      "source": [
        "THIS IS A 3-D ARRAY."
      ],
      "metadata": {
        "id": "In0JPRW9pIsq"
      }
    },
    {
      "cell_type": "code",
      "source": [
        "print(threed_array)"
      ],
      "metadata": {
        "colab": {
          "base_uri": "https://localhost:8080/"
        },
        "id": "rR3aq7Yaw-M5",
        "outputId": "bd65e9cb-10d1-4bf4-b81f-77317d0ec05a"
      },
      "execution_count": 10,
      "outputs": [
        {
          "output_type": "stream",
          "name": "stdout",
          "text": [
            "[[[ 1  2  3]\n",
            "  [ 4  5  6]]\n",
            "\n",
            " [[ 7  8  9]\n",
            "  [10 11 12]]]\n"
          ]
        }
      ]
    },
    {
      "cell_type": "markdown",
      "source": [
        "### **DIMENSIONS**"
      ],
      "metadata": {
        "id": "T9pgL2wYcxOQ"
      }
    },
    {
      "cell_type": "markdown",
      "source": [
        "The arrays we created using np.array has an attribute 'ndim', which returns the dimension of the array created. Let's check the dimension of our arrays using this attribute."
      ],
      "metadata": {
        "id": "GbAyx52VpSA0"
      }
    },
    {
      "cell_type": "code",
      "source": [
        "print(\"Dimension of arr : {} \\nDimension of twodarr : {} \\nDimension of threedarr : {}\".format(oned_array.ndim, twod_array.ndim, threed_array.ndim))"
      ],
      "metadata": {
        "colab": {
          "base_uri": "https://localhost:8080/"
        },
        "id": "6CL9He9GxG55",
        "outputId": "be256a70-ff6f-4e32-9c7f-b689f7f27f4b"
      },
      "execution_count": 11,
      "outputs": [
        {
          "output_type": "stream",
          "name": "stdout",
          "text": [
            "Dimension of arr : 1 \n",
            "Dimension of twodarr : 2 \n",
            "Dimension of threedarr : 3\n"
          ]
        }
      ]
    },
    {
      "cell_type": "markdown",
      "source": [
        "The ndarray also has an attribute 'shape', which returns a tuple with each index having the number of corresponding elements.\n",
        "\n",
        "\n",
        "The shape of a 2-D array is returned as a tuple of the format (no. of rows, no. of columns).\n",
        "\n",
        "The shape of a 3-D array is returned as a tuple of the format (no. of rows, no. of columns, depth)."
      ],
      "metadata": {
        "id": "9xY_ieRPqRe0"
      }
    },
    {
      "cell_type": "code",
      "source": [
        "shape_array = np.array([[1,2,3,4], [5,6,7,8]])\n",
        "print(shape_array.shape)"
      ],
      "metadata": {
        "colab": {
          "base_uri": "https://localhost:8080/"
        },
        "id": "_IeOurUwxS3Z",
        "outputId": "f743c214-ff6d-458c-e2c8-b974271bbd9e"
      },
      "execution_count": 12,
      "outputs": [
        {
          "output_type": "stream",
          "name": "stdout",
          "text": [
            "(2, 4)\n"
          ]
        }
      ]
    },
    {
      "cell_type": "markdown",
      "source": [
        "While creating an array, we can specify the minimum number of dimensions for the created array. This can be done by passing an argument 'ndmin' and a corresponding value."
      ],
      "metadata": {
        "id": "2e97JYErtBFM"
      }
    },
    {
      "cell_type": "code",
      "source": [
        "without_ndmin = np.array([[1,2,3,4], [5,6,7,8]])\n",
        "with_ndmin = np.array([[1,2,3,4], [5,6,7,8]], ndmin = 4)"
      ],
      "metadata": {
        "id": "ANb4F2IxyCq_"
      },
      "execution_count": 13,
      "outputs": []
    },
    {
      "cell_type": "markdown",
      "source": [
        "Let's check out the difference between an array created with and without the ndmin attribute as argument."
      ],
      "metadata": {
        "id": "kARl8bwVtcRp"
      }
    },
    {
      "cell_type": "code",
      "source": [
        "print(\" Without using ndim:\", without_ndmin, without_ndmin.ndim, \"\\n \\n With ndim:\", with_ndmin, with_ndmin.ndim)"
      ],
      "metadata": {
        "colab": {
          "base_uri": "https://localhost:8080/"
        },
        "id": "2qnCrpxxyQeO",
        "outputId": "6770ce0e-885f-4ec9-ee00-bbd841caf94c"
      },
      "execution_count": 14,
      "outputs": [
        {
          "output_type": "stream",
          "name": "stdout",
          "text": [
            " Without using ndim: [[1 2 3 4]\n",
            " [5 6 7 8]] 2 \n",
            " \n",
            " With ndim: [[[[1 2 3 4]\n",
            "   [5 6 7 8]]]] 4\n"
          ]
        }
      ]
    },
    {
      "cell_type": "markdown",
      "source": [
        "*** NOTE ***\n",
        "\n",
        "The number of square brackets used can help us find out the dimension of the array. We can see above that the array *without_ndim* has two dimensions, and *with_ndim* has four dimensions.\n",
        "\n",
        "This may be confusing in case of larger arrays, so it's better to not use this as a rule."
      ],
      "metadata": {
        "id": "lErd5H0SuArd"
      }
    },
    {
      "cell_type": "code",
      "source": [
        "shapearr = np.array([[1,2,3,4], [5,6,7,8]])\n",
        "print(shapearr.shape)"
      ],
      "metadata": {
        "colab": {
          "base_uri": "https://localhost:8080/"
        },
        "id": "Se7DKnRsyRXz",
        "outputId": "7f05a26c-6a89-4c1a-987a-1f16470ec1a9"
      },
      "execution_count": 15,
      "outputs": [
        {
          "output_type": "stream",
          "name": "stdout",
          "text": [
            "(2, 4)\n"
          ]
        }
      ]
    },
    {
      "cell_type": "markdown",
      "source": [
        "WE CAN ALSO CHANGE THE SHAPE OF ARRAY USING THE *reshape()* method."
      ],
      "metadata": {
        "id": "jq5v-VXsvEfg"
      }
    },
    {
      "cell_type": "code",
      "source": [
        "shapearr.reshape(8)"
      ],
      "metadata": {
        "colab": {
          "base_uri": "https://localhost:8080/"
        },
        "id": "T_4K2Pq0yiSQ",
        "outputId": "b7cd2602-a1fe-444b-f601-78852ada6cdd"
      },
      "execution_count": 16,
      "outputs": [
        {
          "output_type": "execute_result",
          "data": {
            "text/plain": [
              "array([1, 2, 3, 4, 5, 6, 7, 8])"
            ]
          },
          "metadata": {},
          "execution_count": 16
        }
      ]
    },
    {
      "cell_type": "markdown",
      "source": [
        "AN ARRAY CAN BE RESHAPED TO ANY SHAPE. HOWEVER, WE NEED TO MAKE SURE THAT THE DIMENSION IS COMPATIBLE WITH THE NUMBER OF ELEMENTS IN THE PREVIOUS ARRAY."
      ],
      "metadata": {
        "id": "mKl-ljZmvKbg"
      }
    },
    {
      "cell_type": "code",
      "source": [
        "shapearr.reshape(4,2)"
      ],
      "metadata": {
        "colab": {
          "base_uri": "https://localhost:8080/"
        },
        "id": "3H-eO_kPyn-P",
        "outputId": "56a7f508-6466-4426-ab38-e2ab702554b2"
      },
      "execution_count": 17,
      "outputs": [
        {
          "output_type": "execute_result",
          "data": {
            "text/plain": [
              "array([[1, 2],\n",
              "       [3, 4],\n",
              "       [5, 6],\n",
              "       [7, 8]])"
            ]
          },
          "metadata": {},
          "execution_count": 17
        }
      ]
    },
    {
      "cell_type": "markdown",
      "source": [
        "Here, shapearr has 8 elements, which means it can be reshaped to an array with shape (4,2), because the resultant array also has 8 elements in total."
      ],
      "metadata": {
        "id": "fIcAiNZZMrbr"
      }
    },
    {
      "cell_type": "markdown",
      "source": [
        "However, it is not possible to reshape the *shapearr* array into an array of shape (3,3), because the latter must have 9 (3*3) elements. In this case, a Traceback occurs, as shown below."
      ],
      "metadata": {
        "id": "70oMtsSpNiRL"
      }
    },
    {
      "cell_type": "code",
      "source": [
        "shapearr.reshape(3,3)"
      ],
      "metadata": {
        "id": "VyxE0RDdNylO",
        "colab": {
          "base_uri": "https://localhost:8080/",
          "height": 165
        },
        "outputId": "bb727829-c1a6-4389-a9a8-a087a238632a"
      },
      "execution_count": 18,
      "outputs": [
        {
          "output_type": "error",
          "ename": "ValueError",
          "evalue": "ignored",
          "traceback": [
            "\u001b[0;31m---------------------------------------------------------------------------\u001b[0m",
            "\u001b[0;31mValueError\u001b[0m                                Traceback (most recent call last)",
            "\u001b[0;32m<ipython-input-18-37ae224154be>\u001b[0m in \u001b[0;36m<module>\u001b[0;34m()\u001b[0m\n\u001b[0;32m----> 1\u001b[0;31m \u001b[0mshapearr\u001b[0m\u001b[0;34m.\u001b[0m\u001b[0mreshape\u001b[0m\u001b[0;34m(\u001b[0m\u001b[0;36m3\u001b[0m\u001b[0;34m,\u001b[0m\u001b[0;36m3\u001b[0m\u001b[0;34m)\u001b[0m\u001b[0;34m\u001b[0m\u001b[0;34m\u001b[0m\u001b[0m\n\u001b[0m",
            "\u001b[0;31mValueError\u001b[0m: cannot reshape array of size 8 into shape (3,3)"
          ]
        }
      ]
    },
    {
      "cell_type": "markdown",
      "source": [
        "Passing -1 as an attribute will instruct python to infer the shape itself."
      ],
      "metadata": {
        "id": "-JCTO-i8vdRY"
      }
    },
    {
      "cell_type": "code",
      "source": [
        "shapearr.reshape(2, -1)"
      ],
      "metadata": {
        "colab": {
          "base_uri": "https://localhost:8080/"
        },
        "id": "3cKIN6tCzTlA",
        "outputId": "ff666250-ffd0-4ece-9382-ed427b894ec8"
      },
      "execution_count": 19,
      "outputs": [
        {
          "output_type": "execute_result",
          "data": {
            "text/plain": [
              "array([[1, 2, 3, 4],\n",
              "       [5, 6, 7, 8]])"
            ]
          },
          "metadata": {},
          "execution_count": 19
        }
      ]
    },
    {
      "cell_type": "markdown",
      "source": [
        "Here, since we passed -1 as the last element in the reshape() method, the number of columns was calculated by Python itself, and the array was reshaped accordingly."
      ],
      "metadata": {
        "id": "z_WxpmI-N8Fc"
      }
    },
    {
      "cell_type": "code",
      "source": [
        "shapearr.reshape(-1, 4)"
      ],
      "metadata": {
        "colab": {
          "base_uri": "https://localhost:8080/"
        },
        "id": "GjF3Qqbezly7",
        "outputId": "e29fa3f1-4175-44d5-f79f-ba5626a4a9ed"
      },
      "execution_count": 20,
      "outputs": [
        {
          "output_type": "execute_result",
          "data": {
            "text/plain": [
              "array([[1, 2, 3, 4],\n",
              "       [5, 6, 7, 8]])"
            ]
          },
          "metadata": {},
          "execution_count": 20
        }
      ]
    },
    {
      "cell_type": "markdown",
      "source": [
        "Similarly, in this example, the number of rows was calculated by Python itself, since -1 was passed as the first attribute."
      ],
      "metadata": {
        "id": "xF0NTsQqOHEA"
      }
    },
    {
      "cell_type": "code",
      "source": [
        "shapearr.reshape(-1)"
      ],
      "metadata": {
        "colab": {
          "base_uri": "https://localhost:8080/"
        },
        "id": "ZO_EmZYBzt3a",
        "outputId": "dc51dbfc-2eab-4b63-eacc-6dc289f5eec8"
      },
      "execution_count": 21,
      "outputs": [
        {
          "output_type": "execute_result",
          "data": {
            "text/plain": [
              "array([1, 2, 3, 4, 5, 6, 7, 8])"
            ]
          },
          "metadata": {},
          "execution_count": 21
        }
      ]
    },
    {
      "cell_type": "markdown",
      "source": [
        "Passing a single attribute to the reshape() method will reshape arrays to a 1-D array. Passing two will reshape arrays to a 2-D array, and so on for higher dimensions."
      ],
      "metadata": {
        "id": "v9brWdweOOSo"
      }
    },
    {
      "cell_type": "markdown",
      "source": [
        "### **INDEXING**"
      ],
      "metadata": {
        "id": "n7SD20f9OZLE"
      }
    },
    {
      "cell_type": "markdown",
      "source": [
        "Like Python lists, we can access elements of a Numpy array using square brackets [ ]. This process is called indexing."
      ],
      "metadata": {
        "id": "E5XDx6brvoK-"
      }
    },
    {
      "cell_type": "code",
      "source": [
        "array1 = np.array([0,2,5,6,9])"
      ],
      "metadata": {
        "id": "rOnz-zaG0IuS"
      },
      "execution_count": 22,
      "outputs": []
    },
    {
      "cell_type": "code",
      "source": [
        "array1[4]"
      ],
      "metadata": {
        "colab": {
          "base_uri": "https://localhost:8080/"
        },
        "id": "kjWrqie30UaK",
        "outputId": "780a53f8-c88e-4b73-fac2-c70b66d3a30e"
      },
      "execution_count": 23,
      "outputs": [
        {
          "output_type": "execute_result",
          "data": {
            "text/plain": [
              "9"
            ]
          },
          "metadata": {},
          "execution_count": 23
        }
      ]
    },
    {
      "cell_type": "markdown",
      "source": [
        "Do note that Python lists and arrays are zero-indexed, which basically means that the first element is at index 0, the second element is index 1 and so on."
      ],
      "metadata": {
        "id": "QtF9Swohvy0R"
      }
    },
    {
      "cell_type": "markdown",
      "source": [
        "Similarly, we can access elements in a 2-D array as shown below:"
      ],
      "metadata": {
        "id": "1WiK3Th4v7vo"
      }
    },
    {
      "cell_type": "code",
      "source": [
        "twodarr = np.array([[1,2,4], [3,6,8]])\n",
        "twodarr[0, 1]"
      ],
      "metadata": {
        "id": "lzEZRuPg0Yl-",
        "colab": {
          "base_uri": "https://localhost:8080/"
        },
        "outputId": "e8e61266-311f-407c-85b7-cd78ca130626"
      },
      "execution_count": 24,
      "outputs": [
        {
          "output_type": "execute_result",
          "data": {
            "text/plain": [
              "2"
            ]
          },
          "metadata": {},
          "execution_count": 24
        }
      ]
    },
    {
      "cell_type": "markdown",
      "source": [
        "Passing a negative number will access the element, counting from the last element. So, if you index the -2th element, it will return the element that's second from last in the array."
      ],
      "metadata": {
        "id": "mFzmqoP1Ojlb"
      }
    },
    {
      "cell_type": "code",
      "source": [
        "array1[-2] "
      ],
      "metadata": {
        "colab": {
          "base_uri": "https://localhost:8080/"
        },
        "id": "EOeS7SlQ04iz",
        "outputId": "d359ca4f-c2f9-41ee-d654-44c7119519fc"
      },
      "execution_count": 25,
      "outputs": [
        {
          "output_type": "execute_result",
          "data": {
            "text/plain": [
              "6"
            ]
          },
          "metadata": {},
          "execution_count": 25
        }
      ]
    },
    {
      "cell_type": "markdown",
      "source": [
        "Similarly, here, the element accessed is the element in the last row and the second last column."
      ],
      "metadata": {
        "id": "s5Yvvu_iOw3w"
      }
    },
    {
      "cell_type": "code",
      "source": [
        "twodarr[-1, -2]"
      ],
      "metadata": {
        "colab": {
          "base_uri": "https://localhost:8080/"
        },
        "id": "y_D7de-y1Gb9",
        "outputId": "5e4c724b-8f7d-47f7-fc6b-bf3fe7d29c78"
      },
      "execution_count": 26,
      "outputs": [
        {
          "output_type": "execute_result",
          "data": {
            "text/plain": [
              "6"
            ]
          },
          "metadata": {},
          "execution_count": 26
        }
      ]
    },
    {
      "cell_type": "markdown",
      "source": [
        "### **SLICING**"
      ],
      "metadata": {
        "id": "GHIU2EG8wDQ2"
      }
    },
    {
      "cell_type": "markdown",
      "source": [
        "Slicing is the process of accessing/ indexing multiple elements of a Numpy array."
      ],
      "metadata": {
        "id": "m9izLLHZO5lo"
      }
    },
    {
      "cell_type": "code",
      "source": [
        "arr = np.array([0,2,5,6,9])"
      ],
      "metadata": {
        "id": "aWgyGLvKDUWI"
      },
      "execution_count": 27,
      "outputs": []
    },
    {
      "cell_type": "code",
      "source": [
        "arr[0:4]"
      ],
      "metadata": {
        "colab": {
          "base_uri": "https://localhost:8080/"
        },
        "id": "9kn75jA91WEg",
        "outputId": "c235d1be-4aaf-4b64-d1b4-2661919c9832"
      },
      "execution_count": 28,
      "outputs": [
        {
          "output_type": "execute_result",
          "data": {
            "text/plain": [
              "array([0, 2, 5, 6])"
            ]
          },
          "metadata": {},
          "execution_count": 28
        }
      ]
    },
    {
      "cell_type": "code",
      "source": [
        "arr = [0, 1, 2, 3, 4, 5, 6, 7, 8, 9]"
      ],
      "metadata": {
        "id": "TjC4BlxT1oOX"
      },
      "execution_count": 29,
      "outputs": []
    },
    {
      "cell_type": "markdown",
      "source": [
        "Leaving indexes blank on the left side of the array (like [:n]) will access elements upto the nth element in the array. Check out the example below."
      ],
      "metadata": {
        "id": "fA0GZ7ntPKSe"
      }
    },
    {
      "cell_type": "code",
      "source": [
        "arr[:3]"
      ],
      "metadata": {
        "colab": {
          "base_uri": "https://localhost:8080/"
        },
        "id": "FHySRxwa1-Mi",
        "outputId": "464a92b2-8ee5-4561-b124-7fb1651a14d2"
      },
      "execution_count": 30,
      "outputs": [
        {
          "output_type": "execute_result",
          "data": {
            "text/plain": [
              "[0, 1, 2]"
            ]
          },
          "metadata": {},
          "execution_count": 30
        }
      ]
    },
    {
      "cell_type": "markdown",
      "source": [
        "Similarly, leaving an index blank on the right side (like [n:]) will access all elements after and including the nth element."
      ],
      "metadata": {
        "id": "c77DQ1WePN3k"
      }
    },
    {
      "cell_type": "code",
      "source": [
        "arr[5:]"
      ],
      "metadata": {
        "colab": {
          "base_uri": "https://localhost:8080/"
        },
        "id": "4IPvTCl92DsG",
        "outputId": "bd72f423-f630-45ac-aeae-42876cf470ea"
      },
      "execution_count": 31,
      "outputs": [
        {
          "output_type": "execute_result",
          "data": {
            "text/plain": [
              "[5, 6, 7, 8, 9]"
            ]
          },
          "metadata": {},
          "execution_count": 31
        }
      ]
    },
    {
      "cell_type": "markdown",
      "source": [
        "Similar to indexing, negative indices indicate counting from the last element."
      ],
      "metadata": {
        "id": "1iyu3SndPbzc"
      }
    },
    {
      "cell_type": "code",
      "source": [
        "arr[-3:]"
      ],
      "metadata": {
        "colab": {
          "base_uri": "https://localhost:8080/"
        },
        "id": "fhDEXmRx2QEG",
        "outputId": "40ad509e-e2bc-422c-8fd7-aa80a3bc9320"
      },
      "execution_count": 32,
      "outputs": [
        {
          "output_type": "execute_result",
          "data": {
            "text/plain": [
              "[7, 8, 9]"
            ]
          },
          "metadata": {},
          "execution_count": 32
        }
      ]
    },
    {
      "cell_type": "markdown",
      "source": [
        "In the above example, the array is sliced to return the elements after the 3rd last element."
      ],
      "metadata": {
        "id": "PDh7Hp5CPh02"
      }
    },
    {
      "cell_type": "markdown",
      "source": [
        "So far, we have only seen examples where we access every single element inside a range specified inside the square brackets. We can also access data at certain steps. This can be done by specifying a third attribute in the slicing operation, as shown below:"
      ],
      "metadata": {
        "id": "onJZ2-CHBONf"
      }
    },
    {
      "cell_type": "code",
      "source": [
        "arr[1:5:2]"
      ],
      "metadata": {
        "colab": {
          "base_uri": "https://localhost:8080/"
        },
        "id": "nkxgc3772iXd",
        "outputId": "d5c25779-7e10-4f32-88df-747a16976835"
      },
      "execution_count": 33,
      "outputs": [
        {
          "output_type": "execute_result",
          "data": {
            "text/plain": [
              "[1, 3]"
            ]
          },
          "metadata": {},
          "execution_count": 33
        }
      ]
    },
    {
      "cell_type": "markdown",
      "source": [
        "In the above example, we access every other element in the range 1-5. The default value for step is 1, illustrated below:"
      ],
      "metadata": {
        "id": "h0RYP-JLBjrK"
      }
    },
    {
      "cell_type": "code",
      "source": [
        "arr[1:5:1]"
      ],
      "metadata": {
        "colab": {
          "base_uri": "https://localhost:8080/"
        },
        "id": "Py4t_WuQ21_Y",
        "outputId": "0faff870-d6ed-47e1-f4a5-a3172f4fa0b0"
      },
      "execution_count": 34,
      "outputs": [
        {
          "output_type": "execute_result",
          "data": {
            "text/plain": [
              "[1, 2, 3, 4]"
            ]
          },
          "metadata": {},
          "execution_count": 34
        }
      ]
    },
    {
      "cell_type": "markdown",
      "source": [
        "Below is an example of accessing every 3 elements in the entire array."
      ],
      "metadata": {
        "id": "8ocBFZzHByNo"
      }
    },
    {
      "cell_type": "code",
      "source": [
        "arr[::3]"
      ],
      "metadata": {
        "colab": {
          "base_uri": "https://localhost:8080/"
        },
        "id": "pBG_THmD3ZBr",
        "outputId": "34f3d9b2-c364-4874-c040-3871f0bd5915"
      },
      "execution_count": 35,
      "outputs": [
        {
          "output_type": "execute_result",
          "data": {
            "text/plain": [
              "[0, 3, 6, 9]"
            ]
          },
          "metadata": {},
          "execution_count": 35
        }
      ]
    },
    {
      "cell_type": "markdown",
      "source": [
        "We can slice the entire array by not specifying values in the array."
      ],
      "metadata": {
        "id": "BCrpTJXlB-Nn"
      }
    },
    {
      "cell_type": "code",
      "source": [
        "arr[:]"
      ],
      "metadata": {
        "colab": {
          "base_uri": "https://localhost:8080/"
        },
        "id": "KXhz3jNP3sFc",
        "outputId": "fb374f84-71bf-41dd-c18a-a19013c612a3"
      },
      "execution_count": 36,
      "outputs": [
        {
          "output_type": "execute_result",
          "data": {
            "text/plain": [
              "[0, 1, 2, 3, 4, 5, 6, 7, 8, 9]"
            ]
          },
          "metadata": {},
          "execution_count": 36
        }
      ]
    },
    {
      "cell_type": "markdown",
      "source": [
        "The above index basically returns the entire array."
      ],
      "metadata": {
        "id": "-18UdC6NPq_Z"
      }
    },
    {
      "cell_type": "markdown",
      "source": [
        "Presented below are examples of slicing in a 2-D array.\n",
        "\n",
        "First, let's create a 2-D array."
      ],
      "metadata": {
        "id": "bW1xp6ZDCEtH"
      }
    },
    {
      "cell_type": "code",
      "source": [
        "twodarr = np.array([[1, 3, 5, 7], [2, 4, 6, 8], [10, 11, 12, 13]])"
      ],
      "metadata": {
        "id": "dB0Dpvhb2--y"
      },
      "execution_count": 37,
      "outputs": []
    },
    {
      "cell_type": "code",
      "source": [
        "twodarr"
      ],
      "metadata": {
        "colab": {
          "base_uri": "https://localhost:8080/"
        },
        "id": "cyLOs_cqCNne",
        "outputId": "9db3f016-9776-404b-b419-30ddf6c5e7d8"
      },
      "execution_count": 38,
      "outputs": [
        {
          "output_type": "execute_result",
          "data": {
            "text/plain": [
              "array([[ 1,  3,  5,  7],\n",
              "       [ 2,  4,  6,  8],\n",
              "       [10, 11, 12, 13]])"
            ]
          },
          "metadata": {},
          "execution_count": 38
        }
      ]
    },
    {
      "cell_type": "markdown",
      "source": [
        "Let us try accessing the first 2 elements in the 1st row."
      ],
      "metadata": {
        "id": "ZHHLC-3jCInu"
      }
    },
    {
      "cell_type": "code",
      "source": [
        "twodarr[1, 0:2]"
      ],
      "metadata": {
        "colab": {
          "base_uri": "https://localhost:8080/"
        },
        "id": "iIbnPaBV4ARQ",
        "outputId": "4bf0e982-b6c5-4bcb-ff5c-40c8c2783257"
      },
      "execution_count": 39,
      "outputs": [
        {
          "output_type": "execute_result",
          "data": {
            "text/plain": [
              "array([2, 4])"
            ]
          },
          "metadata": {},
          "execution_count": 39
        }
      ]
    },
    {
      "cell_type": "markdown",
      "source": [
        "Now, let us try accessing the first two elements from the first two rows."
      ],
      "metadata": {
        "id": "oMU_qJZOCZhH"
      }
    },
    {
      "cell_type": "code",
      "source": [
        "twodarr[0:2, 1:3]"
      ],
      "metadata": {
        "colab": {
          "base_uri": "https://localhost:8080/"
        },
        "id": "UZJHwawT4Vjt",
        "outputId": "aacc0b41-d382-4359-cfaa-682683df7311"
      },
      "execution_count": 40,
      "outputs": [
        {
          "output_type": "execute_result",
          "data": {
            "text/plain": [
              "array([[3, 5],\n",
              "       [4, 6]])"
            ]
          },
          "metadata": {},
          "execution_count": 40
        }
      ]
    },
    {
      "cell_type": "markdown",
      "source": [
        "### **ITERATING**"
      ],
      "metadata": {
        "id": "XcweOFaYcaWR"
      }
    },
    {
      "cell_type": "markdown",
      "source": [
        "Iteration is basically the process of going through elements in the array. It can be conceived as indexing elements one at a time. This can be done using the *for* loop."
      ],
      "metadata": {
        "id": "t1KoX641RD0i"
      }
    },
    {
      "cell_type": "code",
      "source": [
        "one_d_array = np.array([1, 2, 3, 4])\n",
        "for x in one_d_array:\n",
        "  print(x)"
      ],
      "metadata": {
        "colab": {
          "base_uri": "https://localhost:8080/"
        },
        "id": "WoWlzCEI5KbE",
        "outputId": "77446196-ec0e-4c8b-88eb-def24ee75fa7"
      },
      "execution_count": 41,
      "outputs": [
        {
          "output_type": "stream",
          "name": "stdout",
          "text": [
            "1\n",
            "2\n",
            "3\n",
            "4\n"
          ]
        }
      ]
    },
    {
      "cell_type": "markdown",
      "source": [
        "The above example showed the process of iterating through a 1-D array. In this process, the elements accessed are the integer values stored in the 1-D array.\n",
        "\n",
        "\n",
        "\n",
        "You can also iterate through a 2-D array."
      ],
      "metadata": {
        "id": "9v5RKHRQRQlT"
      }
    },
    {
      "cell_type": "code",
      "source": [
        "two_d_array = np.array([[1,2,3], [4,5,6]])\n",
        "for x in two_d_array:\n",
        "  print(x)"
      ],
      "metadata": {
        "colab": {
          "base_uri": "https://localhost:8080/"
        },
        "id": "Lb9nnNXH5bNy",
        "outputId": "099395d0-b822-443f-c15e-617615ac0f4d"
      },
      "execution_count": 44,
      "outputs": [
        {
          "output_type": "stream",
          "name": "stdout",
          "text": [
            "[1 2 3]\n",
            "[4 5 6]\n"
          ]
        }
      ]
    },
    {
      "cell_type": "markdown",
      "source": [
        "Iterating through a 2-D array as shown above means you iterate through two 1-D arrays, one at a time. The elements accessed above are 1-D lists that consist of the elements [1 2 3] and [4 5 6]. "
      ],
      "metadata": {
        "id": "Pz8lQTtPRXgM"
      }
    },
    {
      "cell_type": "code",
      "source": [
        "three_d_array = np.array([[[1,2,3], [4,5,6]], [[7,8,9], [10, 11, 12]]])"
      ],
      "metadata": {
        "id": "XCCp2c8I52kR"
      },
      "execution_count": 45,
      "outputs": []
    },
    {
      "cell_type": "code",
      "source": [
        "three_d_array"
      ],
      "metadata": {
        "colab": {
          "base_uri": "https://localhost:8080/"
        },
        "id": "KGGePf5j6nUg",
        "outputId": "452e883f-4e7d-4f75-9b05-70d587ab7121"
      },
      "execution_count": 46,
      "outputs": [
        {
          "output_type": "execute_result",
          "data": {
            "text/plain": [
              "array([[[ 1,  2,  3],\n",
              "        [ 4,  5,  6]],\n",
              "\n",
              "       [[ 7,  8,  9],\n",
              "        [10, 11, 12]]])"
            ]
          },
          "metadata": {},
          "execution_count": 46
        }
      ]
    },
    {
      "cell_type": "code",
      "source": [
        "for x in three_d_array:\n",
        "  print(x)"
      ],
      "metadata": {
        "colab": {
          "base_uri": "https://localhost:8080/"
        },
        "id": "nHzYcGwM6oKD",
        "outputId": "c189a781-e4f1-443a-aed6-4cb5288f7d54"
      },
      "execution_count": 47,
      "outputs": [
        {
          "output_type": "stream",
          "name": "stdout",
          "text": [
            "[[1 2 3]\n",
            " [4 5 6]]\n",
            "[[ 7  8  9]\n",
            " [10 11 12]]\n"
          ]
        }
      ]
    },
    {
      "cell_type": "markdown",
      "source": [
        "Similarly, for a 3-D array, the elements accessed will be 2-D arrays, one containing the elements [[ 1,  2,  3], [ 4,  5,  6]] and another consisting of [[ 7,  8,  9], [10, 11, 12]]"
      ],
      "metadata": {
        "id": "gop3d7S5R09S"
      }
    },
    {
      "cell_type": "code",
      "source": [
        "x.ndim"
      ],
      "metadata": {
        "colab": {
          "base_uri": "https://localhost:8080/"
        },
        "id": "lyKxUaaB6u_R",
        "outputId": "e83ed541-3ba7-4a91-b2b3-8c2095340e04"
      },
      "execution_count": 48,
      "outputs": [
        {
          "output_type": "execute_result",
          "data": {
            "text/plain": [
              "2"
            ]
          },
          "metadata": {},
          "execution_count": 48
        }
      ]
    },
    {
      "cell_type": "markdown",
      "source": [
        "You can see above that the basic element accessed here is a 2-D array."
      ],
      "metadata": {
        "id": "w4_UeZLQSNK9"
      }
    },
    {
      "cell_type": "markdown",
      "source": [
        "So, to access every element in a 2-D array, we use nested *for* loops, as shown below."
      ],
      "metadata": {
        "id": "mT3wWeSQSTVp"
      }
    },
    {
      "cell_type": "code",
      "source": [
        "two_d_array = np.array([[1,2,3], [4,5,6]])\n",
        "for x in two_d_array:\n",
        "  for y in x:\n",
        "    print(y)"
      ],
      "metadata": {
        "colab": {
          "base_uri": "https://localhost:8080/"
        },
        "id": "hlBHsQg06y5v",
        "outputId": "4cfe2370-a47b-42ca-88fe-6a77888d4366"
      },
      "execution_count": 49,
      "outputs": [
        {
          "output_type": "stream",
          "name": "stdout",
          "text": [
            "1\n",
            "2\n",
            "3\n",
            "4\n",
            "5\n",
            "6\n"
          ]
        }
      ]
    },
    {
      "cell_type": "markdown",
      "source": [
        "The outer loop accesses 1-D arrays, and the inner loop accesses elements inside the 1-D array that the outer loop is currently accessing."
      ],
      "metadata": {
        "id": "g5yg9gr8SSWF"
      }
    },
    {
      "cell_type": "markdown",
      "source": [
        "### **SORTING**"
      ],
      "metadata": {
        "id": "lRp1LR9YcguW"
      }
    },
    {
      "cell_type": "markdown",
      "source": [
        "Numpy has a functionality that makes it easier to sort data in ascending order. This can be done simply using the *sort()* function."
      ],
      "metadata": {
        "id": "BLoE8Wo2Sizp"
      }
    },
    {
      "cell_type": "code",
      "source": [
        "sortdata = np.array([5,6,2,1,4,9,11])"
      ],
      "metadata": {
        "id": "WHet6siU64fK"
      },
      "execution_count": 50,
      "outputs": []
    },
    {
      "cell_type": "code",
      "source": [
        "np.sort(sortdata)"
      ],
      "metadata": {
        "colab": {
          "base_uri": "https://localhost:8080/"
        },
        "id": "-kEjpm4_78Gx",
        "outputId": "53aa6e58-f573-46e4-af69-f9fae0e024b5"
      },
      "execution_count": 51,
      "outputs": [
        {
          "output_type": "execute_result",
          "data": {
            "text/plain": [
              "array([ 1,  2,  4,  5,  6,  9, 11])"
            ]
          },
          "metadata": {},
          "execution_count": 51
        }
      ]
    },
    {
      "cell_type": "markdown",
      "source": [
        "You can also sort arrays containing strings. This sorts lists in alphabetical order."
      ],
      "metadata": {
        "id": "nsrU7HM8Sv12"
      }
    },
    {
      "cell_type": "code",
      "source": [
        "sortdata = np.array(['sunday', 'monday', 'tuesday', 'wed', 'thursday'])"
      ],
      "metadata": {
        "id": "qDRN24Hu8A1j"
      },
      "execution_count": 52,
      "outputs": []
    },
    {
      "cell_type": "code",
      "source": [
        "np.sort(sortdata)"
      ],
      "metadata": {
        "colab": {
          "base_uri": "https://localhost:8080/"
        },
        "id": "P4NweFnY8Q63",
        "outputId": "3006e819-c7bc-45dc-90e6-5954a7e2baff"
      },
      "execution_count": 53,
      "outputs": [
        {
          "output_type": "execute_result",
          "data": {
            "text/plain": [
              "array(['monday', 'sunday', 'thursday', 'tuesday', 'wed'], dtype='<U8')"
            ]
          },
          "metadata": {},
          "execution_count": 53
        }
      ]
    },
    {
      "cell_type": "markdown",
      "source": [
        "If you sort a 2-D array, it will sort elements inside the 1-D arrays separately."
      ],
      "metadata": {
        "id": "9CzSfVyfS2Ag"
      }
    },
    {
      "cell_type": "code",
      "source": [
        "sortdata = np.array([[1, 22, 3, 2], [4, 15, 6, 99]])"
      ],
      "metadata": {
        "id": "7BwMCbs08TQL"
      },
      "execution_count": 54,
      "outputs": []
    },
    {
      "cell_type": "code",
      "source": [
        "np.sort(sortdata)"
      ],
      "metadata": {
        "colab": {
          "base_uri": "https://localhost:8080/"
        },
        "id": "8KGUO4V883e5",
        "outputId": "b5621210-c2bc-4897-d247-bc61d4150562"
      },
      "execution_count": 55,
      "outputs": [
        {
          "output_type": "execute_result",
          "data": {
            "text/plain": [
              "array([[ 1,  2,  3, 22],\n",
              "       [ 4,  6, 15, 99]])"
            ]
          },
          "metadata": {},
          "execution_count": 55
        }
      ]
    },
    {
      "cell_type": "markdown",
      "source": [
        "So here, [1, 22, 3, 2] and [4, 15, 6, 99] are two lists, which are sorted separately."
      ],
      "metadata": {
        "id": "sxms_u2SS8IL"
      }
    },
    {
      "cell_type": "markdown",
      "source": [
        "### **SEARCHING**"
      ],
      "metadata": {
        "id": "u7uf0Bg3cjmM"
      }
    },
    {
      "cell_type": "markdown",
      "source": [
        "You can use the *where()* function to find out the index where certain elements are stored. "
      ],
      "metadata": {
        "id": "r1o-sLIITQL3"
      }
    },
    {
      "cell_type": "code",
      "source": [
        "searchdata = np.array([1,3,5,6,4,8])"
      ],
      "metadata": {
        "id": "_qdtm1u-852W"
      },
      "execution_count": 56,
      "outputs": []
    },
    {
      "cell_type": "code",
      "source": [
        "a = np.where(searchdata == 6)"
      ],
      "metadata": {
        "id": "kpWRm29e9Ptt"
      },
      "execution_count": 57,
      "outputs": []
    },
    {
      "cell_type": "code",
      "source": [
        "a"
      ],
      "metadata": {
        "colab": {
          "base_uri": "https://localhost:8080/"
        },
        "id": "5RNxs9Ek9acF",
        "outputId": "8569e20d-0bbd-4f31-f407-57e72f2cc3d4"
      },
      "execution_count": 58,
      "outputs": [
        {
          "output_type": "execute_result",
          "data": {
            "text/plain": [
              "(array([3]),)"
            ]
          },
          "metadata": {},
          "execution_count": 58
        }
      ]
    },
    {
      "cell_type": "markdown",
      "source": [
        "The result is an index of the data stored."
      ],
      "metadata": {
        "id": "LgE9Pd3bTXf8"
      }
    },
    {
      "cell_type": "markdown",
      "source": [
        "If your array contains multiple elements with the same value, this function will return every index where said element is present."
      ],
      "metadata": {
        "id": "KsdevNyNVApa"
      }
    },
    {
      "cell_type": "code",
      "source": [
        "searchdata = np.array([1,3,5,6,4,8,3])\n",
        "a = np.where(searchdata == 3)"
      ],
      "metadata": {
        "id": "Adzc5YVf9cMT"
      },
      "execution_count": 59,
      "outputs": []
    },
    {
      "cell_type": "code",
      "source": [
        "a"
      ],
      "metadata": {
        "colab": {
          "base_uri": "https://localhost:8080/"
        },
        "id": "LL4jAyj99o3w",
        "outputId": "960bd510-c366-481a-d32b-9896bf39eed1"
      },
      "execution_count": 60,
      "outputs": [
        {
          "output_type": "execute_result",
          "data": {
            "text/plain": [
              "(array([1, 6]),)"
            ]
          },
          "metadata": {},
          "execution_count": 60
        }
      ]
    },
    {
      "cell_type": "markdown",
      "source": [
        "*searchsorted()* is a function that gives us the result of the search operation, but only after the array has been sorted. So this function first sorts the data, and then returns the index of the first instance of the data, starting the count from the left side."
      ],
      "metadata": {
        "id": "EiNSOQ1hVKba"
      }
    },
    {
      "cell_type": "code",
      "source": [
        "a = np.searchsorted(searchdata, 3)"
      ],
      "metadata": {
        "id": "herNHzxB9pHs"
      },
      "execution_count": 61,
      "outputs": []
    },
    {
      "cell_type": "code",
      "source": [
        "a"
      ],
      "metadata": {
        "colab": {
          "base_uri": "https://localhost:8080/"
        },
        "id": "nIBEckal96Zi",
        "outputId": "95974c9f-fe5e-4866-fc7b-6e3816a9d738"
      },
      "execution_count": 62,
      "outputs": [
        {
          "output_type": "execute_result",
          "data": {
            "text/plain": [
              "1"
            ]
          },
          "metadata": {},
          "execution_count": 62
        }
      ]
    },
    {
      "cell_type": "markdown",
      "source": [
        "Passing *side = right* as an attribute will start search operation, but from the right hand side. So this essentially means that this function returns the index of the last element with said value."
      ],
      "metadata": {
        "id": "wMpYU8hSVXfl"
      }
    },
    {
      "cell_type": "code",
      "source": [
        "a = np.searchsorted(searchdata, 3, side = 'right')"
      ],
      "metadata": {
        "id": "aLQWAjnC96pd"
      },
      "execution_count": 63,
      "outputs": []
    },
    {
      "cell_type": "code",
      "source": [
        "a"
      ],
      "metadata": {
        "colab": {
          "base_uri": "https://localhost:8080/"
        },
        "id": "6GLH0zdU-L61",
        "outputId": "023ba258-7f19-4a8e-c0eb-8a9d1d72805a"
      },
      "execution_count": 64,
      "outputs": [
        {
          "output_type": "execute_result",
          "data": {
            "text/plain": [
              "2"
            ]
          },
          "metadata": {},
          "execution_count": 64
        }
      ]
    },
    {
      "cell_type": "code",
      "source": [
        "np.sort(searchdata)"
      ],
      "metadata": {
        "colab": {
          "base_uri": "https://localhost:8080/"
        },
        "id": "tKkPiYsC-Mq7",
        "outputId": "6f98d1f2-4c85-4312-8100-f3d4aa340f37"
      },
      "execution_count": 65,
      "outputs": [
        {
          "output_type": "execute_result",
          "data": {
            "text/plain": [
              "array([1, 3, 3, 4, 5, 6, 8])"
            ]
          },
          "metadata": {},
          "execution_count": 65
        }
      ]
    },
    {
      "cell_type": "markdown",
      "source": [
        "### **COPY AND VIEW**"
      ],
      "metadata": {
        "id": "0xM-ejgbDsOd"
      }
    },
    {
      "cell_type": "markdown",
      "source": [
        "We can copy an array to a new array using the *copy()* function."
      ],
      "metadata": {
        "id": "rA5zGc2jFkju"
      }
    },
    {
      "cell_type": "code",
      "source": [
        "base_array = np.array([1, 2, 3, 4, 5])"
      ],
      "metadata": {
        "id": "kT3v-0nm-pz6"
      },
      "execution_count": 66,
      "outputs": []
    },
    {
      "cell_type": "code",
      "source": [
        "copy_arr = np.copy(base_array)"
      ],
      "metadata": {
        "id": "hSulv0Ld-vce"
      },
      "execution_count": 67,
      "outputs": []
    },
    {
      "cell_type": "code",
      "source": [
        "copy_arr"
      ],
      "metadata": {
        "colab": {
          "base_uri": "https://localhost:8080/"
        },
        "id": "p54dJXSM-zBd",
        "outputId": "754121cf-140d-4b30-880c-edb5118a8649"
      },
      "execution_count": 68,
      "outputs": [
        {
          "output_type": "execute_result",
          "data": {
            "text/plain": [
              "array([1, 2, 3, 4, 5])"
            ]
          },
          "metadata": {},
          "execution_count": 68
        }
      ]
    },
    {
      "cell_type": "markdown",
      "source": [
        "When you copy an array to form a new array, changes in the new array don't affect the base array (the array from which the copied array was created).\n",
        "\n",
        "In this case, changing *copy_arr* doesn't change *base_arr*. They are two separate entities not linked with each other. Let's verify that below:"
      ],
      "metadata": {
        "id": "9TzMPj4PF0wN"
      }
    },
    {
      "cell_type": "code",
      "source": [
        "copy_arr[1] = 200 # changing the element at index 1 of the array"
      ],
      "metadata": {
        "id": "nqqi8K3QGbCj"
      },
      "execution_count": 69,
      "outputs": []
    },
    {
      "cell_type": "code",
      "source": [
        "base_array"
      ],
      "metadata": {
        "colab": {
          "base_uri": "https://localhost:8080/"
        },
        "id": "Y9-t11GNGfeS",
        "outputId": "897607ee-827f-4810-ece0-0d36c058bd26"
      },
      "execution_count": 70,
      "outputs": [
        {
          "output_type": "execute_result",
          "data": {
            "text/plain": [
              "array([1, 2, 3, 4, 5])"
            ]
          },
          "metadata": {},
          "execution_count": 70
        }
      ]
    },
    {
      "cell_type": "code",
      "source": [
        "copy_arr"
      ],
      "metadata": {
        "colab": {
          "base_uri": "https://localhost:8080/"
        },
        "id": "5xRLnZmBGeoS",
        "outputId": "132e9b6f-2254-42ec-98a4-9b2bbdca3fd3"
      },
      "execution_count": 71,
      "outputs": [
        {
          "output_type": "execute_result",
          "data": {
            "text/plain": [
              "array([  1, 200,   3,   4,   5])"
            ]
          },
          "metadata": {},
          "execution_count": 71
        }
      ]
    },
    {
      "cell_type": "markdown",
      "source": [
        "As we can see above, the 2nd element is changed in *copy_arr* but stays the same in *base_array*. "
      ],
      "metadata": {
        "id": "kKq-xIg0GnNL"
      }
    },
    {
      "cell_type": "markdown",
      "source": [
        "Creating views, on the other hand, means that changes to any one of the arrays does change the other array & vice-versa.\n",
        "\n",
        "We can create views using the *view()* function."
      ],
      "metadata": {
        "id": "Sr7eQBZyGM7l"
      }
    },
    {
      "cell_type": "code",
      "source": [
        "view_arr = base_array.view()"
      ],
      "metadata": {
        "id": "Dd0VSroz-zrQ"
      },
      "execution_count": 72,
      "outputs": []
    },
    {
      "cell_type": "code",
      "source": [
        "view_arr"
      ],
      "metadata": {
        "colab": {
          "base_uri": "https://localhost:8080/"
        },
        "id": "IS1wD_aB-59Q",
        "outputId": "c893222b-958c-4666-9ea5-09eedce37dc8"
      },
      "execution_count": 73,
      "outputs": [
        {
          "output_type": "execute_result",
          "data": {
            "text/plain": [
              "array([1, 2, 3, 4, 5])"
            ]
          },
          "metadata": {},
          "execution_count": 73
        }
      ]
    },
    {
      "cell_type": "markdown",
      "source": [
        "Let's change an element in the view."
      ],
      "metadata": {
        "id": "mb-htnkPG6KE"
      }
    },
    {
      "cell_type": "code",
      "source": [
        "view_arr[2] = 35"
      ],
      "metadata": {
        "id": "beAj1uCI-65p"
      },
      "execution_count": 74,
      "outputs": []
    },
    {
      "cell_type": "code",
      "source": [
        "view_arr"
      ],
      "metadata": {
        "colab": {
          "base_uri": "https://localhost:8080/"
        },
        "id": "YyC92pQ5_K1i",
        "outputId": "2c4ad8b5-af76-4391-fa63-1a70c6b34403"
      },
      "execution_count": 75,
      "outputs": [
        {
          "output_type": "execute_result",
          "data": {
            "text/plain": [
              "array([ 1,  2, 35,  4,  5])"
            ]
          },
          "metadata": {},
          "execution_count": 75
        }
      ]
    },
    {
      "cell_type": "code",
      "source": [
        "base_array"
      ],
      "metadata": {
        "colab": {
          "base_uri": "https://localhost:8080/"
        },
        "id": "6npgTvtl_Llx",
        "outputId": "c91251f7-ce63-4f6c-ef8a-51be0a4cd3c9"
      },
      "execution_count": 78,
      "outputs": [
        {
          "output_type": "execute_result",
          "data": {
            "text/plain": [
              "array([ 1,  2, 35,  4,  5])"
            ]
          },
          "metadata": {},
          "execution_count": 78
        }
      ]
    },
    {
      "cell_type": "markdown",
      "source": [
        "We can see that changing an element in *view_arr* also results in a change in the base array *base_arr*"
      ],
      "metadata": {
        "id": "sQ8HETDsG93x"
      }
    },
    {
      "cell_type": "markdown",
      "source": [
        "### **FILTERING**"
      ],
      "metadata": {
        "id": "A5mRDJtDHqYH"
      }
    },
    {
      "cell_type": "markdown",
      "source": [
        "Getting some elements out of an existing array and creating a new array out of them is called filtering. In NumPy, you filter an array using a boolean index list."
      ],
      "metadata": {
        "id": "Y-0Fb-ztJiam"
      }
    },
    {
      "cell_type": "code",
      "source": [
        "arr = np.array([23, 34, 56, 65, 77, 98])\n",
        "filter = [True, False, False, True, True, True]\n",
        "newarr = arr[filter]"
      ],
      "metadata": {
        "id": "m-aB5Lgf_7FU"
      },
      "execution_count": null,
      "outputs": []
    },
    {
      "cell_type": "code",
      "source": [
        "newarr"
      ],
      "metadata": {
        "colab": {
          "base_uri": "https://localhost:8080/"
        },
        "id": "VvNK6dWHAI13",
        "outputId": "384990d7-dea9-4d08-fbed-40fff984320a"
      },
      "execution_count": null,
      "outputs": [
        {
          "output_type": "execute_result",
          "data": {
            "text/plain": [
              "array([23, 65, 77, 98])"
            ]
          },
          "metadata": {},
          "execution_count": 106
        }
      ]
    },
    {
      "cell_type": "markdown",
      "source": [
        "*newarr* is the array we created using the boolean filter stored in the *filter* variable. This only stores elements whose corresponding filter values are True."
      ],
      "metadata": {
        "id": "D7oSu3YgJ03t"
      }
    },
    {
      "cell_type": "code",
      "source": [
        "arr"
      ],
      "metadata": {
        "colab": {
          "base_uri": "https://localhost:8080/"
        },
        "id": "QIL5lWc6AJTo",
        "outputId": "09f8edf0-9a7a-4c10-f89f-916f213a0b88"
      },
      "execution_count": null,
      "outputs": [
        {
          "output_type": "execute_result",
          "data": {
            "text/plain": [
              "array([23, 34, 56, 65, 77, 98])"
            ]
          },
          "metadata": {},
          "execution_count": 107
        }
      ]
    },
    {
      "cell_type": "markdown",
      "source": [
        "Specifying corresponding boolean values in the filter manually is not very useful. Below is a program where we create a filter that helps filter out elements with value less than 50."
      ],
      "metadata": {
        "id": "34hNhNCKKRnU"
      }
    },
    {
      "cell_type": "code",
      "source": [
        "filter = []"
      ],
      "metadata": {
        "id": "ufh7we42AkTR"
      },
      "execution_count": null,
      "outputs": []
    },
    {
      "cell_type": "code",
      "source": [
        "for element in arr:\n",
        "  if element>50:\n",
        "    filter.append(True)\n",
        "  else:\n",
        "    filter.append(False)"
      ],
      "metadata": {
        "id": "XFmHTIJgAKLQ"
      },
      "execution_count": null,
      "outputs": []
    },
    {
      "cell_type": "code",
      "source": [
        "filter"
      ],
      "metadata": {
        "colab": {
          "base_uri": "https://localhost:8080/"
        },
        "id": "zUWoB3mMAoh-",
        "outputId": "8353b348-724f-40a1-a107-e2da9a1be52a"
      },
      "execution_count": null,
      "outputs": [
        {
          "output_type": "execute_result",
          "data": {
            "text/plain": [
              "[False, False, True, True, True, True]"
            ]
          },
          "metadata": {},
          "execution_count": 119
        }
      ]
    },
    {
      "cell_type": "markdown",
      "source": [
        "We can see here that the corresponding filter values are True for elements greater than 50 and False for elements less than 50."
      ],
      "metadata": {
        "id": "OZjyj3mPKiSj"
      }
    },
    {
      "cell_type": "code",
      "source": [
        "newarr = arr[filter]"
      ],
      "metadata": {
        "id": "ivX659_AAx2u"
      },
      "execution_count": null,
      "outputs": []
    },
    {
      "cell_type": "code",
      "source": [
        "newarr"
      ],
      "metadata": {
        "colab": {
          "base_uri": "https://localhost:8080/"
        },
        "id": "_49Yf0leBEhc",
        "outputId": "0f592649-aed8-41a5-e9c4-5d168f4d58b8"
      },
      "execution_count": null,
      "outputs": [
        {
          "output_type": "execute_result",
          "data": {
            "text/plain": [
              "array([56, 65, 77, 98])"
            ]
          },
          "metadata": {},
          "execution_count": 121
        }
      ]
    },
    {
      "cell_type": "markdown",
      "source": [
        "*Newarr* is the array created by filtering out values less than 50 in the original array *arr*."
      ],
      "metadata": {
        "id": "F7b1Ub2CKsuU"
      }
    }
